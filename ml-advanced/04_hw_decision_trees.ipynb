{
  "cells": [
    {
      "cell_type": "markdown",
      "metadata": {
        "id": "v9mhMSKrArsu"
      },
      "source": [
        "# Домашняя работа 9. Деревья решений. (32 балла)\n",
        "\n",
        "1. Скачайте этот ноутбук к себе.\n",
        "2. Заполните пропущенные ячейки, отвечая на заданные вопросы. Там должен быть код! (если не сказано обратное)\n",
        "3. Сохраните результат в своём гитхаб репозитории.\n",
        "\n",
        "## Полезная литература\n",
        "\n",
        "- [Habrahabr: ODS деревья решений](https://habrahabr.ru/company/ods/blog/322534/#derevo-resheniy)\n",
        "- [ВМК МГУ семинары по решающим деревьям](https://github.com/esokolov/ml-course-msu/blob/master/ML16/lecture-notes/Sem04_trees.pdf)\n",
        "- [Sklearn Decision Trees](http://scikit-learn.org/stable/modules/tree.html)"
      ]
    },
    {
      "cell_type": "markdown",
      "metadata": {
        "id": "SjHZR3kzArsy"
      },
      "source": [
        "## 1. Сравнение моделей деревьев\n",
        "\n",
        "В этом блоке вы сравните разные конфигурации композиций деревьев:\n",
        "- DecisionTree\n",
        "- Bagging\n",
        "- Bagging с другими настройками подбора признаков для разбиения\n",
        "- RandomForest\n",
        "\n",
        "Будем использовать [датасет с винишком](https://archive.ics.uci.edu/ml/datasets/wine+quality) - это задача то ли классификации то ли регресси - нужно предсказывать качество вина. Будем думать что это классификация.\n",
        "\n",
        "![](https://upload.wikimedia.org/wikipedia/en/thumb/7/7c/Lulz_Security.svg/300px-Lulz_Security.svg.png)"
      ]
    },
    {
      "cell_type": "markdown",
      "metadata": {
        "id": "Hhz3fIX8Arsz"
      },
      "source": [
        "### 1.1 Чтение данных (1 балла)\n",
        "\n",
        "Данные лежат как обычно в `'../../data/winequality-red.csv.gz'`.\n",
        "\n",
        "- Прочитайте их с помощью pandas\n",
        "- нарисуйте countplot целевого признака `quality`.\n",
        "- Что вы думаете по поводу количества представителей каждого класса.\n",
        "- Разбейте данные на X и y."
      ]
    },
    {
      "cell_type": "code",
      "execution_count": 1,
      "metadata": {
        "id": "cwpDoG24Arsz"
      },
      "outputs": [],
      "source": [
        "import pandas as pd\n",
        "import numpy as np\n",
        "from matplotlib import pyplot as plt\n",
        "import seaborn as sns\n",
        "%matplotlib inline"
      ]
    },
    {
      "cell_type": "code",
      "execution_count": 2,
      "metadata": {
        "colab": {
          "base_uri": "https://localhost:8080/"
        },
        "id": "1TkLPBtcArs0",
        "outputId": "225852fb-22c0-412a-dba2-a5a969513aa2"
      },
      "outputs": [
        {
          "output_type": "stream",
          "name": "stdout",
          "text": [
            "Mounted at /content/drive/\n"
          ]
        }
      ],
      "source": [
        "from google.colab import drive\n",
        "drive.mount('/content/drive/')"
      ]
    },
    {
      "cell_type": "code",
      "execution_count": 4,
      "metadata": {
        "colab": {
          "base_uri": "https://localhost:8080/",
          "height": 206
        },
        "id": "4p5VBN7FArs0",
        "outputId": "6b21828a-fac1-47eb-a2e2-722ab65d2d11"
      },
      "outputs": [
        {
          "output_type": "execute_result",
          "data": {
            "text/plain": [
              "   fixed acidity  volatile acidity  citric acid  residual sugar  chlorides  \\\n",
              "0            7.4              0.70         0.00             1.9      0.076   \n",
              "1            7.8              0.88         0.00             2.6      0.098   \n",
              "2            7.8              0.76         0.04             2.3      0.092   \n",
              "3           11.2              0.28         0.56             1.9      0.075   \n",
              "4            7.4              0.70         0.00             1.9      0.076   \n",
              "\n",
              "   free sulfur dioxide  total sulfur dioxide  density    pH  sulphates  \\\n",
              "0                 11.0                  34.0   0.9978  3.51       0.56   \n",
              "1                 25.0                  67.0   0.9968  3.20       0.68   \n",
              "2                 15.0                  54.0   0.9970  3.26       0.65   \n",
              "3                 17.0                  60.0   0.9980  3.16       0.58   \n",
              "4                 11.0                  34.0   0.9978  3.51       0.56   \n",
              "\n",
              "   alcohol  quality  \n",
              "0      9.4        5  \n",
              "1      9.8        5  \n",
              "2      9.8        5  \n",
              "3      9.8        6  \n",
              "4      9.4        5  "
            ],
            "text/html": [
              "\n",
              "  <div id=\"df-8caeab78-0a5e-429e-9574-9227c4660a83\" class=\"colab-df-container\">\n",
              "    <div>\n",
              "<style scoped>\n",
              "    .dataframe tbody tr th:only-of-type {\n",
              "        vertical-align: middle;\n",
              "    }\n",
              "\n",
              "    .dataframe tbody tr th {\n",
              "        vertical-align: top;\n",
              "    }\n",
              "\n",
              "    .dataframe thead th {\n",
              "        text-align: right;\n",
              "    }\n",
              "</style>\n",
              "<table border=\"1\" class=\"dataframe\">\n",
              "  <thead>\n",
              "    <tr style=\"text-align: right;\">\n",
              "      <th></th>\n",
              "      <th>fixed acidity</th>\n",
              "      <th>volatile acidity</th>\n",
              "      <th>citric acid</th>\n",
              "      <th>residual sugar</th>\n",
              "      <th>chlorides</th>\n",
              "      <th>free sulfur dioxide</th>\n",
              "      <th>total sulfur dioxide</th>\n",
              "      <th>density</th>\n",
              "      <th>pH</th>\n",
              "      <th>sulphates</th>\n",
              "      <th>alcohol</th>\n",
              "      <th>quality</th>\n",
              "    </tr>\n",
              "  </thead>\n",
              "  <tbody>\n",
              "    <tr>\n",
              "      <th>0</th>\n",
              "      <td>7.4</td>\n",
              "      <td>0.70</td>\n",
              "      <td>0.00</td>\n",
              "      <td>1.9</td>\n",
              "      <td>0.076</td>\n",
              "      <td>11.0</td>\n",
              "      <td>34.0</td>\n",
              "      <td>0.9978</td>\n",
              "      <td>3.51</td>\n",
              "      <td>0.56</td>\n",
              "      <td>9.4</td>\n",
              "      <td>5</td>\n",
              "    </tr>\n",
              "    <tr>\n",
              "      <th>1</th>\n",
              "      <td>7.8</td>\n",
              "      <td>0.88</td>\n",
              "      <td>0.00</td>\n",
              "      <td>2.6</td>\n",
              "      <td>0.098</td>\n",
              "      <td>25.0</td>\n",
              "      <td>67.0</td>\n",
              "      <td>0.9968</td>\n",
              "      <td>3.20</td>\n",
              "      <td>0.68</td>\n",
              "      <td>9.8</td>\n",
              "      <td>5</td>\n",
              "    </tr>\n",
              "    <tr>\n",
              "      <th>2</th>\n",
              "      <td>7.8</td>\n",
              "      <td>0.76</td>\n",
              "      <td>0.04</td>\n",
              "      <td>2.3</td>\n",
              "      <td>0.092</td>\n",
              "      <td>15.0</td>\n",
              "      <td>54.0</td>\n",
              "      <td>0.9970</td>\n",
              "      <td>3.26</td>\n",
              "      <td>0.65</td>\n",
              "      <td>9.8</td>\n",
              "      <td>5</td>\n",
              "    </tr>\n",
              "    <tr>\n",
              "      <th>3</th>\n",
              "      <td>11.2</td>\n",
              "      <td>0.28</td>\n",
              "      <td>0.56</td>\n",
              "      <td>1.9</td>\n",
              "      <td>0.075</td>\n",
              "      <td>17.0</td>\n",
              "      <td>60.0</td>\n",
              "      <td>0.9980</td>\n",
              "      <td>3.16</td>\n",
              "      <td>0.58</td>\n",
              "      <td>9.8</td>\n",
              "      <td>6</td>\n",
              "    </tr>\n",
              "    <tr>\n",
              "      <th>4</th>\n",
              "      <td>7.4</td>\n",
              "      <td>0.70</td>\n",
              "      <td>0.00</td>\n",
              "      <td>1.9</td>\n",
              "      <td>0.076</td>\n",
              "      <td>11.0</td>\n",
              "      <td>34.0</td>\n",
              "      <td>0.9978</td>\n",
              "      <td>3.51</td>\n",
              "      <td>0.56</td>\n",
              "      <td>9.4</td>\n",
              "      <td>5</td>\n",
              "    </tr>\n",
              "  </tbody>\n",
              "</table>\n",
              "</div>\n",
              "    <div class=\"colab-df-buttons\">\n",
              "\n",
              "  <div class=\"colab-df-container\">\n",
              "    <button class=\"colab-df-convert\" onclick=\"convertToInteractive('df-8caeab78-0a5e-429e-9574-9227c4660a83')\"\n",
              "            title=\"Convert this dataframe to an interactive table.\"\n",
              "            style=\"display:none;\">\n",
              "\n",
              "  <svg xmlns=\"http://www.w3.org/2000/svg\" height=\"24px\" viewBox=\"0 -960 960 960\">\n",
              "    <path d=\"M120-120v-720h720v720H120Zm60-500h600v-160H180v160Zm220 220h160v-160H400v160Zm0 220h160v-160H400v160ZM180-400h160v-160H180v160Zm440 0h160v-160H620v160ZM180-180h160v-160H180v160Zm440 0h160v-160H620v160Z\"/>\n",
              "  </svg>\n",
              "    </button>\n",
              "\n",
              "  <style>\n",
              "    .colab-df-container {\n",
              "      display:flex;\n",
              "      gap: 12px;\n",
              "    }\n",
              "\n",
              "    .colab-df-convert {\n",
              "      background-color: #E8F0FE;\n",
              "      border: none;\n",
              "      border-radius: 50%;\n",
              "      cursor: pointer;\n",
              "      display: none;\n",
              "      fill: #1967D2;\n",
              "      height: 32px;\n",
              "      padding: 0 0 0 0;\n",
              "      width: 32px;\n",
              "    }\n",
              "\n",
              "    .colab-df-convert:hover {\n",
              "      background-color: #E2EBFA;\n",
              "      box-shadow: 0px 1px 2px rgba(60, 64, 67, 0.3), 0px 1px 3px 1px rgba(60, 64, 67, 0.15);\n",
              "      fill: #174EA6;\n",
              "    }\n",
              "\n",
              "    .colab-df-buttons div {\n",
              "      margin-bottom: 4px;\n",
              "    }\n",
              "\n",
              "    [theme=dark] .colab-df-convert {\n",
              "      background-color: #3B4455;\n",
              "      fill: #D2E3FC;\n",
              "    }\n",
              "\n",
              "    [theme=dark] .colab-df-convert:hover {\n",
              "      background-color: #434B5C;\n",
              "      box-shadow: 0px 1px 3px 1px rgba(0, 0, 0, 0.15);\n",
              "      filter: drop-shadow(0px 1px 2px rgba(0, 0, 0, 0.3));\n",
              "      fill: #FFFFFF;\n",
              "    }\n",
              "  </style>\n",
              "\n",
              "    <script>\n",
              "      const buttonEl =\n",
              "        document.querySelector('#df-8caeab78-0a5e-429e-9574-9227c4660a83 button.colab-df-convert');\n",
              "      buttonEl.style.display =\n",
              "        google.colab.kernel.accessAllowed ? 'block' : 'none';\n",
              "\n",
              "      async function convertToInteractive(key) {\n",
              "        const element = document.querySelector('#df-8caeab78-0a5e-429e-9574-9227c4660a83');\n",
              "        const dataTable =\n",
              "          await google.colab.kernel.invokeFunction('convertToInteractive',\n",
              "                                                    [key], {});\n",
              "        if (!dataTable) return;\n",
              "\n",
              "        const docLinkHtml = 'Like what you see? Visit the ' +\n",
              "          '<a target=\"_blank\" href=https://colab.research.google.com/notebooks/data_table.ipynb>data table notebook</a>'\n",
              "          + ' to learn more about interactive tables.';\n",
              "        element.innerHTML = '';\n",
              "        dataTable['output_type'] = 'display_data';\n",
              "        await google.colab.output.renderOutput(dataTable, element);\n",
              "        const docLink = document.createElement('div');\n",
              "        docLink.innerHTML = docLinkHtml;\n",
              "        element.appendChild(docLink);\n",
              "      }\n",
              "    </script>\n",
              "  </div>\n",
              "\n",
              "\n",
              "<div id=\"df-48e3b336-8148-40ec-a423-ea856f8040e7\">\n",
              "  <button class=\"colab-df-quickchart\" onclick=\"quickchart('df-48e3b336-8148-40ec-a423-ea856f8040e7')\"\n",
              "            title=\"Suggest charts\"\n",
              "            style=\"display:none;\">\n",
              "\n",
              "<svg xmlns=\"http://www.w3.org/2000/svg\" height=\"24px\"viewBox=\"0 0 24 24\"\n",
              "     width=\"24px\">\n",
              "    <g>\n",
              "        <path d=\"M19 3H5c-1.1 0-2 .9-2 2v14c0 1.1.9 2 2 2h14c1.1 0 2-.9 2-2V5c0-1.1-.9-2-2-2zM9 17H7v-7h2v7zm4 0h-2V7h2v10zm4 0h-2v-4h2v4z\"/>\n",
              "    </g>\n",
              "</svg>\n",
              "  </button>\n",
              "\n",
              "<style>\n",
              "  .colab-df-quickchart {\n",
              "      --bg-color: #E8F0FE;\n",
              "      --fill-color: #1967D2;\n",
              "      --hover-bg-color: #E2EBFA;\n",
              "      --hover-fill-color: #174EA6;\n",
              "      --disabled-fill-color: #AAA;\n",
              "      --disabled-bg-color: #DDD;\n",
              "  }\n",
              "\n",
              "  [theme=dark] .colab-df-quickchart {\n",
              "      --bg-color: #3B4455;\n",
              "      --fill-color: #D2E3FC;\n",
              "      --hover-bg-color: #434B5C;\n",
              "      --hover-fill-color: #FFFFFF;\n",
              "      --disabled-bg-color: #3B4455;\n",
              "      --disabled-fill-color: #666;\n",
              "  }\n",
              "\n",
              "  .colab-df-quickchart {\n",
              "    background-color: var(--bg-color);\n",
              "    border: none;\n",
              "    border-radius: 50%;\n",
              "    cursor: pointer;\n",
              "    display: none;\n",
              "    fill: var(--fill-color);\n",
              "    height: 32px;\n",
              "    padding: 0;\n",
              "    width: 32px;\n",
              "  }\n",
              "\n",
              "  .colab-df-quickchart:hover {\n",
              "    background-color: var(--hover-bg-color);\n",
              "    box-shadow: 0 1px 2px rgba(60, 64, 67, 0.3), 0 1px 3px 1px rgba(60, 64, 67, 0.15);\n",
              "    fill: var(--button-hover-fill-color);\n",
              "  }\n",
              "\n",
              "  .colab-df-quickchart-complete:disabled,\n",
              "  .colab-df-quickchart-complete:disabled:hover {\n",
              "    background-color: var(--disabled-bg-color);\n",
              "    fill: var(--disabled-fill-color);\n",
              "    box-shadow: none;\n",
              "  }\n",
              "\n",
              "  .colab-df-spinner {\n",
              "    border: 2px solid var(--fill-color);\n",
              "    border-color: transparent;\n",
              "    border-bottom-color: var(--fill-color);\n",
              "    animation:\n",
              "      spin 1s steps(1) infinite;\n",
              "  }\n",
              "\n",
              "  @keyframes spin {\n",
              "    0% {\n",
              "      border-color: transparent;\n",
              "      border-bottom-color: var(--fill-color);\n",
              "      border-left-color: var(--fill-color);\n",
              "    }\n",
              "    20% {\n",
              "      border-color: transparent;\n",
              "      border-left-color: var(--fill-color);\n",
              "      border-top-color: var(--fill-color);\n",
              "    }\n",
              "    30% {\n",
              "      border-color: transparent;\n",
              "      border-left-color: var(--fill-color);\n",
              "      border-top-color: var(--fill-color);\n",
              "      border-right-color: var(--fill-color);\n",
              "    }\n",
              "    40% {\n",
              "      border-color: transparent;\n",
              "      border-right-color: var(--fill-color);\n",
              "      border-top-color: var(--fill-color);\n",
              "    }\n",
              "    60% {\n",
              "      border-color: transparent;\n",
              "      border-right-color: var(--fill-color);\n",
              "    }\n",
              "    80% {\n",
              "      border-color: transparent;\n",
              "      border-right-color: var(--fill-color);\n",
              "      border-bottom-color: var(--fill-color);\n",
              "    }\n",
              "    90% {\n",
              "      border-color: transparent;\n",
              "      border-bottom-color: var(--fill-color);\n",
              "    }\n",
              "  }\n",
              "</style>\n",
              "\n",
              "  <script>\n",
              "    async function quickchart(key) {\n",
              "      const quickchartButtonEl =\n",
              "        document.querySelector('#' + key + ' button');\n",
              "      quickchartButtonEl.disabled = true;  // To prevent multiple clicks.\n",
              "      quickchartButtonEl.classList.add('colab-df-spinner');\n",
              "      try {\n",
              "        const charts = await google.colab.kernel.invokeFunction(\n",
              "            'suggestCharts', [key], {});\n",
              "      } catch (error) {\n",
              "        console.error('Error during call to suggestCharts:', error);\n",
              "      }\n",
              "      quickchartButtonEl.classList.remove('colab-df-spinner');\n",
              "      quickchartButtonEl.classList.add('colab-df-quickchart-complete');\n",
              "    }\n",
              "    (() => {\n",
              "      let quickchartButtonEl =\n",
              "        document.querySelector('#df-48e3b336-8148-40ec-a423-ea856f8040e7 button');\n",
              "      quickchartButtonEl.style.display =\n",
              "        google.colab.kernel.accessAllowed ? 'block' : 'none';\n",
              "    })();\n",
              "  </script>\n",
              "</div>\n",
              "    </div>\n",
              "  </div>\n"
            ],
            "application/vnd.google.colaboratory.intrinsic+json": {
              "type": "dataframe",
              "variable_name": "df",
              "summary": "{\n  \"name\": \"df\",\n  \"rows\": 1599,\n  \"fields\": [\n    {\n      \"column\": \"fixed acidity\",\n      \"properties\": {\n        \"dtype\": \"number\",\n        \"std\": 1.7410963181276953,\n        \"min\": 4.6,\n        \"max\": 15.9,\n        \"num_unique_values\": 96,\n        \"samples\": [\n          5.3,\n          12.7,\n          12.6\n        ],\n        \"semantic_type\": \"\",\n        \"description\": \"\"\n      }\n    },\n    {\n      \"column\": \"volatile acidity\",\n      \"properties\": {\n        \"dtype\": \"number\",\n        \"std\": 0.17905970415353537,\n        \"min\": 0.12,\n        \"max\": 1.58,\n        \"num_unique_values\": 143,\n        \"samples\": [\n          1.025,\n          0.4,\n          0.87\n        ],\n        \"semantic_type\": \"\",\n        \"description\": \"\"\n      }\n    },\n    {\n      \"column\": \"citric acid\",\n      \"properties\": {\n        \"dtype\": \"number\",\n        \"std\": 0.19480113740531857,\n        \"min\": 0.0,\n        \"max\": 1.0,\n        \"num_unique_values\": 80,\n        \"samples\": [\n          0.37,\n          0.0,\n          0.09\n        ],\n        \"semantic_type\": \"\",\n        \"description\": \"\"\n      }\n    },\n    {\n      \"column\": \"residual sugar\",\n      \"properties\": {\n        \"dtype\": \"number\",\n        \"std\": 1.4099280595072798,\n        \"min\": 0.9,\n        \"max\": 15.5,\n        \"num_unique_values\": 91,\n        \"samples\": [\n          11.0,\n          3.0,\n          15.5\n        ],\n        \"semantic_type\": \"\",\n        \"description\": \"\"\n      }\n    },\n    {\n      \"column\": \"chlorides\",\n      \"properties\": {\n        \"dtype\": \"number\",\n        \"std\": 0.0470653020100901,\n        \"min\": 0.012,\n        \"max\": 0.611,\n        \"num_unique_values\": 153,\n        \"samples\": [\n          0.096,\n          0.343,\n          0.159\n        ],\n        \"semantic_type\": \"\",\n        \"description\": \"\"\n      }\n    },\n    {\n      \"column\": \"free sulfur dioxide\",\n      \"properties\": {\n        \"dtype\": \"number\",\n        \"std\": 10.460156969809725,\n        \"min\": 1.0,\n        \"max\": 72.0,\n        \"num_unique_values\": 60,\n        \"samples\": [\n          11.0,\n          9.0,\n          32.0\n        ],\n        \"semantic_type\": \"\",\n        \"description\": \"\"\n      }\n    },\n    {\n      \"column\": \"total sulfur dioxide\",\n      \"properties\": {\n        \"dtype\": \"number\",\n        \"std\": 32.895324478299074,\n        \"min\": 6.0,\n        \"max\": 289.0,\n        \"num_unique_values\": 144,\n        \"samples\": [\n          68.0,\n          35.0,\n          101.0\n        ],\n        \"semantic_type\": \"\",\n        \"description\": \"\"\n      }\n    },\n    {\n      \"column\": \"density\",\n      \"properties\": {\n        \"dtype\": \"number\",\n        \"std\": 0.0018873339538425554,\n        \"min\": 0.99007,\n        \"max\": 1.00369,\n        \"num_unique_values\": 436,\n        \"samples\": [\n          0.99974,\n          1.0001,\n          0.99471\n        ],\n        \"semantic_type\": \"\",\n        \"description\": \"\"\n      }\n    },\n    {\n      \"column\": \"pH\",\n      \"properties\": {\n        \"dtype\": \"number\",\n        \"std\": 0.15438646490354277,\n        \"min\": 2.74,\n        \"max\": 4.01,\n        \"num_unique_values\": 89,\n        \"samples\": [\n          3.07,\n          3.0,\n          3.15\n        ],\n        \"semantic_type\": \"\",\n        \"description\": \"\"\n      }\n    },\n    {\n      \"column\": \"sulphates\",\n      \"properties\": {\n        \"dtype\": \"number\",\n        \"std\": 0.16950697959010996,\n        \"min\": 0.33,\n        \"max\": 2.0,\n        \"num_unique_values\": 96,\n        \"samples\": [\n          1.07,\n          1.04,\n          1.18\n        ],\n        \"semantic_type\": \"\",\n        \"description\": \"\"\n      }\n    },\n    {\n      \"column\": \"alcohol\",\n      \"properties\": {\n        \"dtype\": \"number\",\n        \"std\": 1.0656675818473946,\n        \"min\": 8.4,\n        \"max\": 14.9,\n        \"num_unique_values\": 65,\n        \"samples\": [\n          8.5,\n          9.95,\n          9.4\n        ],\n        \"semantic_type\": \"\",\n        \"description\": \"\"\n      }\n    },\n    {\n      \"column\": \"quality\",\n      \"properties\": {\n        \"dtype\": \"number\",\n        \"std\": 0,\n        \"min\": 3,\n        \"max\": 8,\n        \"num_unique_values\": 6,\n        \"samples\": [\n          5,\n          6,\n          3\n        ],\n        \"semantic_type\": \"\",\n        \"description\": \"\"\n      }\n    }\n  ]\n}"
            }
          },
          "metadata": {},
          "execution_count": 4
        }
      ],
      "source": [
        "df = pd.read_csv('/content/drive/MyDrive/ml-courses/ml-advanced/winequality-red.csv', sep=';')\n",
        "df.head()"
      ]
    },
    {
      "cell_type": "code",
      "execution_count": 5,
      "metadata": {
        "colab": {
          "base_uri": "https://localhost:8080/",
          "height": 564
        },
        "id": "CqQr1doiArs0",
        "outputId": "ef2a4b22-c0f5-448f-b93c-f10c064a909c"
      },
      "outputs": [
        {
          "output_type": "display_data",
          "data": {
            "text/plain": [
              "<Figure size 800x600 with 1 Axes>"
            ],
            "image/png": "[encoded data removed]"
          },
          "metadata": {}
        }
      ],
      "source": [
        "plt.figure(figsize=(8, 6))\n",
        "sns.countplot(x='quality', data=df)\n",
        "plt.title('Распределение качества вина')\n",
        "plt.show()"
      ]
    },
    {
      "cell_type": "markdown",
      "source": [
        "## Существует дизбаланс классов в пользу 5 и 6."
      ],
      "metadata": {
        "id": "2K5UQtp5CUPz"
      }
    },
    {
      "cell_type": "code",
      "execution_count": 6,
      "metadata": {
        "colab": {
          "base_uri": "https://localhost:8080/"
        },
        "id": "yDE4HMi-Ars1",
        "outputId": "d265b3b4-3556-4a01-8c61-3284b5a11d86"
      },
      "outputs": [
        {
          "output_type": "stream",
          "name": "stdout",
          "text": [
            "Размерности X: (1599, 11)\n",
            "Размерности y: (1599,)\n"
          ]
        }
      ],
      "source": [
        "X = df.drop('quality', axis=1)\n",
        "y = df['quality']\n",
        "\n",
        "print('Размерности X:', X.shape)\n",
        "print('Размерности y:', y.shape)"
      ]
    },
    {
      "cell_type": "markdown",
      "metadata": {
        "id": "PnTLZp7zArs1"
      },
      "source": [
        "### 1.2 Сравнение моделей (4 балла)\n",
        "\n",
        "Задача классификации. Все признаки уже числовые. Значит можно пробовать просто все модели и выбрать лучшую. Так и поступим, сделайте кросс валидацию на 5 фолдах, используя `sklearn.model_selection.KFold` как аргумент у `cross_val_score`. Метрика качества будет `accuracy`.\n",
        "\n",
        "Алгоритмы для тестирования:\n",
        "- KNeighborsClassifier с 10 соседями\n",
        "- KNeighborsClassifier с 10 соседями и масштабированием StandartScaler\n",
        "- RidgeClassifier\n",
        "- DecisionTreeClassifier\n",
        "- BaggingClassifier c 100 деревьев\n",
        "- BaggingClassifier с 100 деревьев и каждое дерево обучается только по половине случайно выбранных признаков (см аргументы)\n",
        "- RandomForestClassifier c 100 деревьев\n",
        "\n",
        "Выведите среднее значение метрики качества для каждого из классификаторов.\n",
        "\n",
        "**hint**: каждый следующий алгоритм, будет показывать качество лучше, чем предыдущий. Если у вас не так - то что-то вы делаете неправильно. Везде зафиксируйте random_state=42."
      ]
    },
    {
      "cell_type": "code",
      "source": [
        "from sklearn.model_selection import cross_val_score, KFold\n",
        "from sklearn.neighbors import KNeighborsClassifier\n",
        "from sklearn.linear_model import RidgeClassifier\n",
        "from sklearn.preprocessing import StandardScaler\n",
        "from sklearn.tree import DecisionTreeClassifier\n",
        "from sklearn.ensemble import BaggingClassifier, RandomForestClassifier\n",
        "from sklearn.pipeline import make_pipeline"
      ],
      "metadata": {
        "id": "TtCf9mXNDVQd"
      },
      "execution_count": 25,
      "outputs": []
    },
    {
      "cell_type": "code",
      "source": [
        "kf = KFold(n_splits=5, random_state=42, shuffle=True)"
      ],
      "metadata": {
        "id": "ZZTMIZGQGQym"
      },
      "execution_count": 36,
      "outputs": []
    },
    {
      "cell_type": "code",
      "execution_count": 37,
      "metadata": {
        "colab": {
          "base_uri": "https://localhost:8080/"
        },
        "id": "CgDt9H9wArs2",
        "outputId": "b6af6368-f7da-4cb0-8384-542a73f92068"
      },
      "outputs": [
        {
          "output_type": "stream",
          "name": "stdout",
          "text": [
            "Средняя точность на кросс-валидации с KNeighborsClassifier:  0.5122198275862069\n"
          ]
        }
      ],
      "source": [
        "knn = KNeighborsClassifier(n_neighbors=10)\n",
        "\n",
        "scores = cross_val_score(knn, X, y, cv=kf, scoring='accuracy')\n",
        "print('Средняя точность на кросс-валидации с KNeighborsClassifier: ', np.mean(scores))"
      ]
    },
    {
      "cell_type": "code",
      "execution_count": 38,
      "metadata": {
        "colab": {
          "base_uri": "https://localhost:8080/"
        },
        "id": "PGLmhgQQArs2",
        "outputId": "cb589842-b19f-4a8a-e020-baeec530335f"
      },
      "outputs": [
        {
          "output_type": "stream",
          "name": "stdout",
          "text": [
            "Средняя точность на кросс-валидации с KNeighborsClassifier с масштабированием:  0.581634012539185\n"
          ]
        }
      ],
      "source": [
        "knn = KNeighborsClassifier(n_neighbors=10)\n",
        "pipeline = make_pipeline(StandardScaler(), knn)\n",
        "\n",
        "scores = cross_val_score(pipeline, X, y, cv=kf, scoring='accuracy')\n",
        "print('Средняя точность на кросс-валидации с KNeighborsClassifier с масштабированием: ', np.mean(scores))"
      ]
    },
    {
      "cell_type": "code",
      "execution_count": 39,
      "metadata": {
        "colab": {
          "base_uri": "https://localhost:8080/"
        },
        "id": "8qgtYEI_Ars2",
        "outputId": "e5382cd5-4df2-4acc-d4af-7a71b99b3a8f"
      },
      "outputs": [
        {
          "output_type": "stream",
          "name": "stdout",
          "text": [
            "Средняя точность на кросс-валидации с RidgeClassifier:  0.5835384012539185\n"
          ]
        }
      ],
      "source": [
        "ridge = RidgeClassifier()\n",
        "\n",
        "scores = cross_val_score(ridge, X, y, cv=kf, scoring='accuracy')\n",
        "print('Средняя точность на кросс-валидации с RidgeClassifier: ', np.mean(scores))"
      ]
    },
    {
      "cell_type": "code",
      "execution_count": 40,
      "metadata": {
        "colab": {
          "base_uri": "https://localhost:8080/"
        },
        "id": "GobB5v0qArs2",
        "outputId": "b793a34d-7154-432c-9eea-6b1664702ded"
      },
      "outputs": [
        {
          "output_type": "stream",
          "name": "stdout",
          "text": [
            "Средняя точность на кросс-валидации с DecisionTreeClassifier:  0.621653605015674\n"
          ]
        }
      ],
      "source": [
        "dt = DecisionTreeClassifier()\n",
        "\n",
        "scores = cross_val_score(dt, X, y, cv=kf, scoring='accuracy')\n",
        "print('Средняя точность на кросс-валидации с DecisionTreeClassifier: ', np.mean(scores))"
      ]
    },
    {
      "cell_type": "code",
      "execution_count": 44,
      "metadata": {
        "colab": {
          "base_uri": "https://localhost:8080/"
        },
        "id": "DvSJAqi8Ars2",
        "outputId": "a51d8a5d-d445-415d-b964-b58e81037c5b"
      },
      "outputs": [
        {
          "output_type": "stream",
          "name": "stdout",
          "text": [
            "Средняя точность на кросс-валидации с BaggingClassifier (100 деревьев):  0.6860795454545455\n"
          ]
        }
      ],
      "source": [
        "base_model = DecisionTreeClassifier()\n",
        "bagging = BaggingClassifier(base_model, n_estimators=100)\n",
        "\n",
        "scores = cross_val_score(bagging, X, y, cv=kf, scoring='accuracy')\n",
        "print('Средняя точность на кросс-валидации с BaggingClassifier (100 деревьев): ', np.mean(scores))"
      ]
    },
    {
      "cell_type": "code",
      "execution_count": 42,
      "metadata": {
        "colab": {
          "base_uri": "https://localhost:8080/"
        },
        "id": "zEQkcf1NArs2",
        "outputId": "6e016670-55c5-44ed-c924-fe352db9eaff"
      },
      "outputs": [
        {
          "output_type": "stream",
          "name": "stdout",
          "text": [
            "Средняя точность на кросс-валидации с BaggingClassifier (100 деревьев, max_features=0.5):  0.6929467084639498\n"
          ]
        }
      ],
      "source": [
        "base_model = DecisionTreeClassifier()\n",
        "bagging = BaggingClassifier(base_model, n_estimators=100, max_features=0.5)\n",
        "\n",
        "scores = cross_val_score(bagging, X, y, cv=kf, scoring='accuracy')\n",
        "print('Средняя точность на кросс-валидации с BaggingClassifier (100 деревьев, max_features=0.5): ', np.mean(scores))"
      ]
    },
    {
      "cell_type": "code",
      "execution_count": 43,
      "metadata": {
        "colab": {
          "base_uri": "https://localhost:8080/"
        },
        "id": "qPA8kbwoArs3",
        "outputId": "1a8fc30f-0627-4a97-95e9-1e11e8310265"
      },
      "outputs": [
        {
          "output_type": "stream",
          "name": "stdout",
          "text": [
            "Средняя точность на кросс-валидации с RandomForestClassifier (100 деревьев):  0.69858934169279\n"
          ]
        }
      ],
      "source": [
        "rf = RandomForestClassifier(n_estimators=100)\n",
        "\n",
        "scores = cross_val_score(rf, X, y, cv=kf, scoring='accuracy')\n",
        "print('Средняя точность на кросс-валидации с RandomForestClassifier (100 деревьев): ', np.mean(scores))"
      ]
    },
    {
      "cell_type": "markdown",
      "metadata": {
        "id": "8tOivFIwArs3"
      },
      "source": [
        "### 1.3 Расуждения (8 баллов)\n",
        "\n",
        "Ответьте на вопросы развернуто, можете полистать литературу:\n",
        "\n",
        "- почему наблюдается значимая разница в качестве у KNeighborsClassifier с масштабированием и без\n",
        "- почему масштабирование не важно для деревьев решений\n",
        "- почему бэггинг на половине признаков для каждого дерева дал качество предсказания больше, чем на всех? (а он дал!)\n",
        "- у какой модели наибольшей отклонение от среднего качества предсказаний? А почему??"
      ]
    },
    {
      "cell_type": "markdown",
      "source": [
        "## Ответы:\n",
        "\n",
        "1.   Разница в качестве модели KNeighborsClassifier с масштабированием и без масштабирования может быть обусловлена особенностями работы самого алгоритма KNeighborsClassifier. KNeighborsClassifier основан на измерении расстояний между точками данных. Если данные не масштабированы, признаки с большими значениями могут оказать большее влияние на расстояния, чем признаки с меньшими значениями. Это может привести к тому, что модель будет учитывать некорректные расстояния и, следовательно, давать менее точные прогнозы. Масштабирование данных помогает уравнять диапазоны значений признаков, что делает расстояния между точками более сбалансированными и улучшает производительность модели KNeighborsClassifier.\n",
        "\n",
        "2.   Масштабирование не является важным для деревьев решений из-за особенностей работы этого алгоритма. Деревья решений разделяют данные на основе значений признаков. При этом пороги для разделения выбираются таким образом, чтобы минимизировать некоторый критерий (например, прирост информации или критерий Джини). Поскольку пороги выбираются относительно значений признаков, масштабирование не влияет на способ построения дерева. Деревья решений не учитывают абсолютные значения признаков, а только их порядок. Поэтому изменение масштаба признаков не влияет на результаты разделения и прогнозирования деревьев решений. Деревья решений инвариантны к монотонным преобразованиям признаков. Это означает, что изменение масштаба признаков (например, умножение на константу) не изменит структуру дерева и его прогнозы.\n",
        "\n",
        "3. Существует несколько возможных причин, почему использование бэггинга на половине случайно выбранных признаков для каждого дерева дало лучшее качество предсказания, чем использование всех признаков. При использовании всех признаков каждое дерево в ансамбле может быть склонно к переобучению, особенно если некоторые признаки несущественны или шумовые. Выбор случайной половины признаков для каждого дерева может помочь уменьшить переобучение и повысить обобщающую способность модели. Использование случайной половины признаков для каждого дерева способствует созданию более разнообразных моделей в ансамбле. Это может привести к улучшению обобщающей способности модели и снижению ошибки на тестовых данных. Если все деревья в ансамбле используют одни и те же признаки, они могут быть сильно коррелированы, что может уменьшить выигрыш от ансамблирования. Использование случайной половины признаков для каждого дерева помогает уменьшить корреляцию между деревьями и повысить разнообразие предсказаний.\n",
        "\n",
        "4. Исходя из результатов кросс-валидации, можно увидеть, что модели с наибольшим отклонением от среднего качества предсказаний это KNeighborsClassifier и KNeighborsClassifier с масштабированием. Эти модели имеют существенно более низкую среднюю точность по сравнению с другими моделями. KNeighborsClassifier требует правильного выбора числа соседей (k) для достижения хорошего качества предсказаний. Неправильный выбор этого параметра может привести к ухудшению точности модели. KNeighborsClassifier чувствителен к масштабированию признаков. Без масштабирования признаков расстояния между точками могут быть искажены, что влияет на качество предсказаний. KNeighborsClassifier может быть неэффективным на больших наборах данных из-за вычислительной сложности при поиске ближайших соседей. С другой стороны, модели DecisionTreeClassifier, BaggingClassifier и RandomForestClassifier показали более высокую среднюю точность на кросс-валидации, что может быть связано с их способностью к обучению сложных зависимостей в данных и устойчивостью к выбору гиперпараметров. BaggingClassifier и RandomForestClassifier также могут обеспечить улучшение качества предсказаний за счет уменьшения переобучения и увеличения разнообразия моделей в ансамбле."
      ],
      "metadata": {
        "id": "TW0MDcguHCzg"
      }
    },
    {
      "cell_type": "markdown",
      "metadata": {
        "id": "dSbgkMd3Ars3"
      },
      "source": [
        "## 2 Переобучение и Ко\n",
        "\n",
        "В последнем задании вы уже заметили, что случайный лес может вести себя немного нестабильно. В этом задании мы возьмем опять датасет MNIST(простите) и будем его решать деревьями. Почему мы взяли его? Потому что в нем фактически много разных признаков (значения пикселей в пространстве), а деревья строятся делая разбиения по признакам. Обычно на эти разбиения не обращают внимание, так как главное что тюнят - это глубина дереьвев, количество деревьев, а кучу других параметров обходят стороной, так как они \"неясные\". Попробуем прояснить их."
      ]
    },
    {
      "cell_type": "markdown",
      "metadata": {
        "id": "sP3pXYwuArs3"
      },
      "source": [
        "### 2.1 Загрузка датасета (1 балл)\n",
        "\n",
        "Загрузите датасет с помощью функции `sklearn.datasets.load_digits`. В нем будут 64px картинки в векторной форме.\n",
        "\n",
        "Нарисуйте первые 10 цифр в одной ячейке, чтобы было красиво."
      ]
    },
    {
      "cell_type": "code",
      "execution_count": 45,
      "metadata": {
        "colab": {
          "base_uri": "https://localhost:8080/"
        },
        "id": "JCSf12KqArs4",
        "outputId": "4af2c385-c3fe-40d5-9ee8-b7193ca59e80"
      },
      "outputs": [
        {
          "output_type": "stream",
          "name": "stdout",
          "text": [
            "Экземпляров: 1797\n",
            "Размер изображения: 8.0x8.0\n"
          ]
        }
      ],
      "source": [
        "from sklearn import datasets\n",
        "\n",
        "X, y = datasets.load_digits(return_X_y=True)\n",
        "\n",
        "print(\"Экземпляров: {}\\nРазмер изображения: {}x{}\".format(X.shape[0], np.sqrt(X.shape[1]), np.sqrt(X.shape[1])))"
      ]
    },
    {
      "cell_type": "code",
      "execution_count": 46,
      "metadata": {
        "colab": {
          "base_uri": "https://localhost:8080/",
          "height": 560
        },
        "id": "9fdsryhSArs4",
        "outputId": "131d6179-93ce-49cd-e0f3-9fd28e7a3b8b"
      },
      "outputs": [
        {
          "output_type": "display_data",
          "data": {
            "text/plain": [
              "<Figure size 1200x600 with 10 Axes>"
            ],
            "image/png": "[encoded data removed]"
          },
          "metadata": {}
        }
      ],
      "source": [
        "plt.figure(figsize=(12, 6))\n",
        "for i in range(10):\n",
        "    plt.subplot(2, 5, i + 1)\n",
        "    plt.imshow(X[i].reshape(8, 8), cmap='gray')\n",
        "    plt.title(f'Цифра: {y[i]}')\n",
        "    plt.axis('off')\n",
        "\n",
        "plt.tight_layout()\n",
        "plt.show()"
      ]
    },
    {
      "cell_type": "markdown",
      "metadata": {
        "id": "DGXj-XzSArs4"
      },
      "source": [
        "### 2.2 Перебор классификаторов (3 балла)\n",
        "\n",
        "В этом задании вам снова придется перебрать несколько классификаторов, но теперь мы обратим внимание на другие гиперпараметры и их влияние на качество классификации, кстати опять `accuracy`.\n",
        "\n",
        "Сделайте кроссвалидацию на 10 фолдах, указав `cv=10` для следующих классификаторов:\n",
        "\n",
        "- DecisionTreeClassifier с параметрами по-умолчанию\n",
        "- BaggingClassifier с 100 деревьвев\n",
        "- BaggingClassifier с 100 деревьев, НО с ограничением на максимальное количество признаков, участвующих при обучении каждого из деревьев в $\\sqrt{N}$, где $N$ - это число признаков.\n",
        "- BaggingClassifier с 100 деревьев, НО с ограничением на количество признаков участвующих в разбиении для каждого из деревьев в $\\sqrt{N}$, где $N$ - это число признаков. Это отличается от предыдущей модели тем, где ограничивается `max_features`. Читайте документацию :trollface:\n",
        "- обычный случайный лес со 100 деревьями"
      ]
    },
    {
      "cell_type": "code",
      "execution_count": 47,
      "metadata": {
        "id": "tRbZNHuGArs4"
      },
      "outputs": [],
      "source": [
        "kf = KFold(n_splits=10, random_state=42, shuffle=True)"
      ]
    },
    {
      "cell_type": "code",
      "execution_count": 50,
      "metadata": {
        "colab": {
          "base_uri": "https://localhost:8080/"
        },
        "id": "EGb3sC5fArs4",
        "outputId": "31b6d8b2-9ca7-4d9f-eceb-739cf5e9181a"
      },
      "outputs": [
        {
          "output_type": "stream",
          "name": "stdout",
          "text": [
            "Средняя точность на кросс-валидации с DecisionTreeClassifier: 0.8525387957790193\n"
          ]
        }
      ],
      "source": [
        "dt = DecisionTreeClassifier()\n",
        "\n",
        "scores = cross_val_score(dt, X, y, cv=kf, scoring='accuracy')\n",
        "print('Средняя точность на кросс-валидации с DecisionTreeClassifier:', np.mean(scores))"
      ]
    },
    {
      "cell_type": "code",
      "execution_count": 51,
      "metadata": {
        "colab": {
          "base_uri": "https://localhost:8080/"
        },
        "id": "PFa4dAiJArs4",
        "outputId": "fe734077-b003-4e3d-c4d7-d8af22b21445"
      },
      "outputs": [
        {
          "output_type": "stream",
          "name": "stdout",
          "text": [
            "Средняя точность на кросс-валидации с BaggingClassifier (100 деревьев):  0.9521384233395406\n"
          ]
        }
      ],
      "source": [
        "base_model = DecisionTreeClassifier()\n",
        "bagging = BaggingClassifier(base_model, n_estimators=100)\n",
        "\n",
        "scores = cross_val_score(bagging, X, y, cv=kf, scoring='accuracy')\n",
        "print('Средняя точность на кросс-валидации с BaggingClassifier (100 деревьев): ', np.mean(scores))"
      ]
    },
    {
      "cell_type": "code",
      "source": [
        "max_features_sqrt = int(np.sqrt(X.shape[1]))"
      ],
      "metadata": {
        "id": "Lq30wziOMyDe"
      },
      "execution_count": 59,
      "outputs": []
    },
    {
      "cell_type": "code",
      "execution_count": 60,
      "metadata": {
        "colab": {
          "base_uri": "https://localhost:8080/"
        },
        "id": "lOCxKH1IArs4",
        "outputId": "5aba9fb9-922d-4743-cc94-af6bbebdaf6f"
      },
      "outputs": [
        {
          "output_type": "stream",
          "name": "stdout",
          "text": [
            "Средняя точность на кросс-валидации с BaggingClassifier (100 деревьев, max_features=8):  0.9532774674115455\n"
          ]
        }
      ],
      "source": [
        "base_model = DecisionTreeClassifier()\n",
        "bagging = BaggingClassifier(base_model, n_estimators=100, max_features=max_features_sqrt)\n",
        "\n",
        "scores = cross_val_score(bagging, X, y, cv=kf, scoring='accuracy')\n",
        "print(f'Средняя точность на кросс-валидации с BaggingClassifier (100 деревьев, max_features={max_features_sqrt}): ', np.mean(scores))"
      ]
    },
    {
      "cell_type": "code",
      "execution_count": 62,
      "metadata": {
        "colab": {
          "base_uri": "https://localhost:8080/"
        },
        "id": "JXYIH4dNArs4",
        "outputId": "1f2c280f-2802-40c3-e1fa-f8f1aa2053e5"
      },
      "outputs": [
        {
          "output_type": "stream",
          "name": "stdout",
          "text": [
            "Средняя точность на кросс-валидации с BaggingClassifier (с ограничением на количество признаков):  0.9760769708255742\n"
          ]
        }
      ],
      "source": [
        "base_model = DecisionTreeClassifier(max_features='sqrt')\n",
        "bagging = BaggingClassifier(base_model, n_estimators=100)\n",
        "\n",
        "scores = cross_val_score(bagging, X, y, cv=kf, scoring='accuracy')\n",
        "print(f'Средняя точность на кросс-валидации с BaggingClassifier (с ограничением на количество признаков): ', np.mean(scores))"
      ]
    },
    {
      "cell_type": "code",
      "source": [
        "rf = RandomForestClassifier(n_estimators=100)\n",
        "\n",
        "scores = cross_val_score(rf, X, y, cv=kf, scoring='accuracy')\n",
        "print('Средняя точность на кросс-валидации с RandomForestClassifier (100 деревьев): ', np.mean(scores))"
      ],
      "metadata": {
        "colab": {
          "base_uri": "https://localhost:8080/"
        },
        "id": "m59zoxtMNqHV",
        "outputId": "53e8d948-87db-4197-dd6b-77f7eb82c218"
      },
      "execution_count": 63,
      "outputs": [
        {
          "output_type": "stream",
          "name": "stdout",
          "text": [
            "Средняя точность на кросс-валидации с RandomForestClassifier (100 деревьев):  0.9755245189323402\n"
          ]
        }
      ]
    },
    {
      "cell_type": "markdown",
      "metadata": {
        "id": "bcL0xSb4Ars5"
      },
      "source": [
        "### 2.3 В чём разница? (3 балла)\n",
        "\n",
        "Ответье на вопрос:\n",
        "\n",
        "Странно то как? Почему ограничение на количество признаков в разбиении дерева и ограничение в количестве признаков для построения каждого дерева в BaggingClasifier дало СОВСЕМ разный результат в качестве предсказания? В чем магия?\n",
        "\n",
        "![](https://i.ytimg.com/vi/_5GWMIAHc08/hqdefault.jpg)"
      ]
    },
    {
      "cell_type": "markdown",
      "source": [
        "## Ответ\n",
        "\n",
        "Ограничение на количество признаков в разбиении дерева и ограничение в количестве признаков для построения каждого дерева в BaggingClassifier (например, с использованием DecisionTreeClassifier) действительно могут привести к разным результатам в качестве предсказания. Вот почему это происходит:\n",
        "\n",
        "1. Разнообразие моделей: Ограничение на количество признаков в разбиении дерева в случайном лесе способствует созданию разнообразных деревьев, так как каждое дерево видит только подмножество признаков. Это увеличивает разнообразие моделей в ансамбле, что может привести к лучшей обобщающей способности и уменьшению переобучения. В то время как ограничение в количестве признаков для построения каждого дерева в BaggingClassifier может не обеспечить такое разнообразие моделей.\n",
        "\n",
        "2. Устойчивость к шуму: Ограничение на количество признаков в разбиении дерева в случайном лесе может помочь уменьшить влияние шумовых признаков на построение деревьев. В то время как ограничение в количестве признаков для построения каждого дерева в BaggingClassifier может не обеспечить такой уровень защиты от шума.\n",
        "\n",
        "3. Сложность модели: Ограничение на количество признаков в разбиении дерева в случайном лесе может помочь управлять сложностью модели, что может быть полезно для предотвращения переобучения. В BaggingClassifier с ограничением в количестве признаков для построения каждого дерева, сложность модели может быть менее контролируемой.\n",
        "\n",
        "Таким образом, различия в результатах могут быть обусловлены различными стратегиями построения моделей и их разнообразием в ансамбле, что влияет на обобщающую способность и устойчивость модели к шуму и переобучению."
      ],
      "metadata": {
        "id": "8wXnrW7yN768"
      }
    },
    {
      "cell_type": "markdown",
      "metadata": {
        "id": "F40M8aqFArs5"
      },
      "source": [
        "### 2.4 Количество деревьев (2 балла)\n",
        "\n",
        "Сделайте перебор количества деревьев для `RandomForestClassifier`. Сохраните качества кросс валидации на 10 фолдах для `[1,5,10,15,50,100,150,200,300]` количества деревьев. Нарисуйте график, где по оси x - количество деревьев, а по оси y - качество. При каком количестве деревьев получается самое хорошее качество?"
      ]
    },
    {
      "cell_type": "code",
      "execution_count": 72,
      "metadata": {
        "id": "Ms6TGdE_Ars5"
      },
      "outputs": [],
      "source": [
        "n_estimators_list = [1, 5, 10, 15, 50, 100, 150, 200, 300]\n",
        "scores_list = []\n",
        "\n",
        "kf = KFold(n_splits=10, shuffle=True, random_state=42)\n",
        "\n",
        "for n_estimators in n_estimators_list:\n",
        "    rf = RandomForestClassifier(n_estimators=n_estimators)\n",
        "    scores = cross_val_score(rf, X, y, cv=kf, scoring='accuracy')\n",
        "    scores_list.append(np.mean(scores))"
      ]
    },
    {
      "cell_type": "code",
      "execution_count": 73,
      "metadata": {
        "colab": {
          "base_uri": "https://localhost:8080/",
          "height": 581
        },
        "id": "TyXLudDFArs5",
        "outputId": "dda66b94-3cbe-4ffa-e3d9-9caf0b9dbd5b"
      },
      "outputs": [
        {
          "output_type": "display_data",
          "data": {
            "text/plain": [
              "<Figure size 1000x600 with 1 Axes>"
            ],
            "image/png": "[encoded data removed]"
          },
          "metadata": {}
        },
        {
          "output_type": "stream",
          "name": "stdout",
          "text": [
            "Самое хорошее качество достигается при количестве деревьев: 200\n"
          ]
        }
      ],
      "source": [
        "plt.figure(figsize=(10, 6))\n",
        "plt.plot(n_estimators_list, scores_list, marker='o')\n",
        "plt.xlabel('Количество деревьев')\n",
        "plt.ylabel('Качество кросс-валидации')\n",
        "plt.title('Зависимость качества от количества деревьев в RandomForestClassifier')\n",
        "plt.grid(True)\n",
        "plt.show()\n",
        "\n",
        "best_n_estimators = n_estimators_list[np.argmax(scores_list)]\n",
        "print(f\"Самое хорошее качество достигается при количестве деревьев: {best_n_estimators}\")"
      ]
    },
    {
      "cell_type": "markdown",
      "metadata": {
        "id": "XacCd4yNArs5"
      },
      "source": [
        "### 2.5 Количество признаков  (2 балла)\n",
        "\n",
        "Переберите теперь максимальное количество признаков для `RandomForestClassifier` на 100 деревьях, от 1 до 64 с шагом 5. Постройте график качества по кроссвалидации на 10 фолдах."
      ]
    },
    {
      "cell_type": "code",
      "execution_count": 69,
      "metadata": {
        "id": "o85HR_NxArs5"
      },
      "outputs": [],
      "source": [
        "max_features_list = range(1, 65, 5)\n",
        "scores_list = []\n",
        "\n",
        "kf = KFold(n_splits=10, shuffle=True, random_state=42)\n",
        "\n",
        "for max_features in max_features_list:\n",
        "    rf = RandomForestClassifier(n_estimators=100, max_features=max_features)\n",
        "    scores = cross_val_score(rf, X, y, cv=kf)\n",
        "    scores_list.append(np.mean(scores))"
      ]
    },
    {
      "cell_type": "code",
      "source": [
        "plt.figure(figsize=(10, 6))\n",
        "plt.plot(max_features_list, scores_list, marker='o')\n",
        "plt.xlabel('Максимальное количество признаков')\n",
        "plt.ylabel('Качество кросс-валидации')\n",
        "plt.title('Зависимость качества от максимального количества признаков в RandomForestClassifier')\n",
        "plt.grid(True)\n",
        "plt.show()"
      ],
      "metadata": {
        "colab": {
          "base_uri": "https://localhost:8080/",
          "height": 564
        },
        "id": "wiRUKY-6PenD",
        "outputId": "aa3cf56a-aafb-4d52-90ab-a913f81ded60"
      },
      "execution_count": 70,
      "outputs": [
        {
          "output_type": "display_data",
          "data": {
            "text/plain": [
              "<Figure size 1000x600 with 1 Axes>"
            ],
            "image/png": "[encoded data removed]"
          },
          "metadata": {}
        }
      ]
    },
    {
      "cell_type": "markdown",
      "metadata": {
        "id": "GoTTfO8uArs6"
      },
      "source": [
        "### 2.5 Вопросы по RandomForest (8 баллов)\n",
        "\n",
        "Ответьте на вопросы:\n",
        "\n",
        "- Что происходит с ростом числа деревьев у случайного леса. Можно ли просто всегда брать 5000 деревьев и быть счастливым?\n",
        "- Как зависит качество предсказания в дереве в зависимости от max_features?\n",
        "- Почему качество зависит от max_features?\n",
        "- Как глубина деревьев влияет на качество случайного леса?"
      ]
    },
    {
      "cell_type": "markdown",
      "metadata": {
        "id": "xQp6uXY2Ars9"
      },
      "source": [
        "## Ответы:\n",
        "\n",
        "1. При увеличении числа деревьев в случайном лесе обычно улучшается качество модели на обучающих данных, но существует определенный предел, после которого дополнительные деревья могут не привести к значительному улучшению производительности модели. Это связано с тем, что с увеличением числа деревьев модель может начать переобучаться на обучающих данных. Выбор оптимального числа деревьев для случайного леса обычно зависит от конкретной задачи и данных. В некоторых случаях 5000 деревьев могут быть излишними и могут привести к избыточной сложности модели без значительного улучшения ее производительности.\n",
        "\n",
        "2. Параметр max_features в дереве решений и случайном лесе определяет количество признаков, которые будут учитываться при каждом разбиении узла. При max_features = 1 (по одному признаку) модель будет выбирать лучший разделитель, основываясь только на одном случайно выбранном признаке. Это может привести к более случайным и неустойчивым моделям, но при этом может уменьшить корреляцию между деревьями в случайном лесе, что может быть полезно для уменьшения переобучения. При max_features = n_features (все признаки) модель будет учитывать все признаки при каждом разбиении. Это может привести к более устойчивым и точным моделям, но при этом может увеличить корреляцию между деревьями в случайном лесе, что может привести к переобучению. max_features = sqrt(n_features) или log2(n_features) -- это часто используемые значения по умолчанию для случайного леса. Они позволяют модели учитывать случайное подмножество признаков при каждом разбиении, что помогает достичь баланса между разнообразием и точностью модели.\n",
        "\n",
        "3. При использовании меньшего значения max_features, модель будет учитывать только ограниченное количество признаков при каждом разбиении узла. Это способствует большему разнообразию деревьев в случайном лесе, что может уменьшить корреляцию между деревьями и повысить обобщающую способность модели.\n",
        "Переобучение: Слишком большое значение max_features может привести к переобучению модели, особенно если признаков много. Модель может начать \"запоминать\" обучающие данные, вместо того чтобы обобщать их, что может привести к плохой производительности на новых данных.\n",
        "Устойчивость модели: Оптимальное значение max_features помогает найти баланс между разнообразием и точностью модели. Слишком маленькое значение может привести к недообучению, а слишком большое - к переобучению. Подходящее значение max_features помогает модели быть устойчивой и точной на новых данных.\n",
        "\n",
        "4. Глубина деревьев в случайном лесе играет важную роль в определении качества модели. Если деревья слишком мелкие (неглубокие), то модель может недообучиться, то есть не сможет извлечь достаточно сложные закономерности из данных. С другой стороны, если деревья слишком глубокие, модель может переобучиться, то есть \"запомнить\" обучающие данные и потерять способность обобщения на новых данных. Увеличение глубины деревьев может привести к уменьшению разнообразия моделей в случайном лесе, так как более глубокие деревья могут начать выучивать шумы в данных. Это может уменьшить эффективность ансамбля и привести к переобучению. Более глубокие деревья могут требовать больше времени на обучение и предсказание, так как модель должна рассматривать больше разбиений и узлов. Это может быть проблематично при работе с большими объемами данных."
      ]
    },
    {
      "cell_type": "markdown",
      "metadata": {
        "id": "w2k6wwfDArs-"
      },
      "source": [
        "![](https://habrastorage.org/web/ad8/366/a44/ad8366a4469346c6b2e1306495b05d1a.jpg)"
      ]
    }
  ],
  "metadata": {
    "kernelspec": {
      "display_name": "Python 3",
      "language": "python",
      "name": "python3"
    },
    "language_info": {
      "codemirror_mode": {
        "name": "ipython",
        "version": 3
      },
      "file_extension": ".py",
      "mimetype": "text/x-python",
      "name": "python",
      "nbconvert_exporter": "python",
      "pygments_lexer": "ipython3",
      "version": "3.6.6"
    },
    "colab": {
      "provenance": []
    }
  },
  "nbformat": 4,
  "nbformat_minor": 0
}
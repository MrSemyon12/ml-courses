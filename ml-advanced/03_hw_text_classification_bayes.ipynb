{
  "cells": [
    {
      "cell_type": "markdown",
      "metadata": {
        "id": "TUxMunZW5GI0"
      },
      "source": [
        "# Workshop 8. Наивный Байес и Классификация текстов\n",
        "\n",
        "> Байесовские алгоритмы для классификации текстов  \n",
        "> Извлечение признаков из текста\n",
        "\n",
        "1. Скачайте этот ноутбук к себе.\n",
        "2. Заполните пропущенные ячейки, отвечая на заданные вопросы. Там должен быть код! (если не сказано обратное)\n",
        "3. Сохраните результат в своём гитхаб репозитории.\n",
        "\n",
        "### Полезная литература\n",
        "\n",
        "- [Naive Bayes and Text Classification](https://sebastianraschka.com/Articles/2014_naive_bayes_1.html)\n",
        "- [ODS - классификация](https://habrahabr.ru/company/ods/blog/322534/)\n",
        "- [Байесовский классификатор](http://www.machinelearning.ru/wiki/index.php?title=%D0%91%D0%B0%D0%B9%D0%B5%D1%81%D0%BE%D0%B2%D1%81%D0%BA%D0%B8%D0%B9_%D0%BA%D0%BB%D0%B0%D1%81%D1%81%D0%B8%D1%84%D0%B8%D0%BA%D0%B0%D1%82%D0%BE%D1%80)\n",
        "- [Интересная статья про спам/не спам](https://habrahabr.ru/post/252265/)\n",
        "\n",
        "Если вам понравилась задача распознавания текстов, то вот подборочка:\n",
        "\n",
        "- [библиотека Gensim](https://radimrehurek.com/gensim/)\n",
        "- [библиотека nltk](http://www.nltk.org/)\n",
        "- [Лекция про word2vec 🔥](https://www.youtube.com/watch?v=oBb9aFmp0Hs)\n",
        "- [Лекция Векторные представления слов и документов 🔥](https://www.youtube.com/watch?v=hiDBnEyoZS4)"
      ]
    },
    {
      "cell_type": "markdown",
      "metadata": {
        "id": "Hyoq2cio5GI3"
      },
      "source": [
        "## Наивный байесовский классификатор\n",
        "\n",
        "На практике мы использовали его для детекции спам/не спам. В этот раз вы будете классифицировать [новостные тексты](https://scikit-learn.org/0.19/datasets/twenty_newsgroups.html). Попробуете разные методы  генерации признаков из текстов."
      ]
    },
    {
      "cell_type": "code",
      "source": [
        "%matplotlib inline\n",
        "from matplotlib import pyplot as plt\n",
        "from sklearn.feature_extraction.text import CountVectorizer\n",
        "import numpy as np\n",
        "import pandas as pd\n",
        "import seaborn as sns\n",
        "from sklearn.model_selection import cross_val_score, train_test_split\n",
        "from sklearn.metrics import classification_report, confusion_matrix"
      ],
      "metadata": {
        "id": "spZRZ2mVDZmk"
      },
      "execution_count": 34,
      "outputs": []
    },
    {
      "cell_type": "code",
      "execution_count": 1,
      "metadata": {
        "colab": {
          "base_uri": "https://localhost:8080/"
        },
        "id": "BB1TAP1v5GI3",
        "outputId": "ad49b932-3c3f-47ec-ca1e-d4239608f4c1"
      },
      "outputs": [
        {
          "output_type": "execute_result",
          "data": {
            "text/plain": [
              "['alt.atheism',\n",
              " 'comp.graphics',\n",
              " 'comp.os.ms-windows.misc',\n",
              " 'comp.sys.ibm.pc.hardware',\n",
              " 'comp.sys.mac.hardware',\n",
              " 'comp.windows.x',\n",
              " 'misc.forsale',\n",
              " 'rec.autos',\n",
              " 'rec.motorcycles',\n",
              " 'rec.sport.baseball',\n",
              " 'rec.sport.hockey',\n",
              " 'sci.crypt',\n",
              " 'sci.electronics',\n",
              " 'sci.med',\n",
              " 'sci.space',\n",
              " 'soc.religion.christian',\n",
              " 'talk.politics.guns',\n",
              " 'talk.politics.mideast',\n",
              " 'talk.politics.misc',\n",
              " 'talk.religion.misc']"
            ]
          },
          "metadata": {},
          "execution_count": 1
        }
      ],
      "source": [
        "from sklearn.datasets import fetch_20newsgroups\n",
        "newsgroups_train = fetch_20newsgroups(subset='train', remove=('headers', 'footers', 'quotes'))\n",
        "newsgroups_train.target_names"
      ]
    },
    {
      "cell_type": "markdown",
      "metadata": {
        "id": "eRI4-lAD5GI5"
      },
      "source": [
        "### 2.1 Загрузка данных (2 балла)\n",
        "\n",
        "Мы будем использовать только 4 класса текстов: `'alt.atheism', 'sci.space', 'talk.religion.misc', 'comp.graphics'`.\n",
        "\n",
        "Загрузите тренировочную и тестовую части датасета для этих категорий."
      ]
    },
    {
      "cell_type": "code",
      "execution_count": 72,
      "metadata": {
        "id": "urlDhi2D5GI6"
      },
      "outputs": [],
      "source": [
        "cats = ['alt.atheism', 'sci.space', 'talk.religion.misc', 'comp.graphics']\n",
        "newsgroups_train = fetch_20newsgroups(subset='train', categories=cats, remove=('headers', 'footers', 'quotes'))\n",
        "newsgroups_test = fetch_20newsgroups(subset='test', categories=cats, remove=('headers', 'footers', 'quotes'))"
      ]
    },
    {
      "cell_type": "markdown",
      "metadata": {
        "id": "NjYcHhG15GI6"
      },
      "source": [
        "Выведите по 1 тексту для каждой из категории."
      ]
    },
    {
      "cell_type": "code",
      "execution_count": 14,
      "metadata": {
        "scrolled": true,
        "colab": {
          "base_uri": "https://localhost:8080/"
        },
        "id": "BXxF6FmD5GI6",
        "outputId": "980f68b2-977c-42d5-e07e-2dfa032af7cc"
      },
      "outputs": [
        {
          "output_type": "stream",
          "name": "stdout",
          "text": [
            "Category: alt.atheism\n",
            "\n",
            "I have a request for those who would like to see Charley Wingate\n",
            "respond to the \"Charley Challenges\" (and judging from my e-mail, there\n",
            "appear to be quite a few of you.)  \n",
            "\n",
            "It is clear that Mr. Wingate intends to continue to post tangential or\n",
            "unrelated articles while ingoring the Challenges themselves.  Between\n",
            "the last two re-postings of the Challenges, I noted perhaps a dozen or\n",
            "more posts by Mr. Wingate, none of which answered a single Challenge.  \n",
            "\n",
            "It seems unmistakable to me that Mr. Wingate hopes that the questions\n",
            "will just go away, and he is doing his level best to change the\n",
            "subject.  Given that this seems a rather common net.theist tactic, I\n",
            "would like to suggest that we impress upon him our desire for answers,\n",
            "in the following manner:\n",
            "\n",
            "1. Ignore any future articles by Mr. Wingate that do not address the\n",
            "Challenges, until he answers them or explictly announces that he\n",
            "refuses to do so.\n",
            "\n",
            "--or--\n",
            "\n",
            "2. If you must respond to one of his articles, include within it\n",
            "something similar to the following:\n",
            "\n",
            "    \"Please answer the questions posed to you in the Charley Challenges.\"\n",
            "\n",
            "Really, I'm not looking to humiliate anyone here, I just want some\n",
            "honest answers.  You wouldn't think that honesty would be too much to\n",
            "ask from a devout Christian, would you?  \n",
            "\n",
            "Nevermind, that was a rhetorical question.\n",
            "\n",
            "\n",
            "Category: sci.space\n",
            "\n",
            "\n",
            " >In article <1993Apr19.020359.26996@sq.sq.com>, msb@sq.sq.com (Mark Brader) \n",
            "\n",
            "MB>                                                             So the\n",
            "MB> 1970 figure seems unlikely to actually be anything but a perijove.\n",
            "\n",
            "JG>Sorry, _perijoves_...I'm not used to talking this language.\n",
            "\n",
            "Couldn't we just say periapsis or apoapsis?\n",
            "\n",
            " \n",
            "\n",
            "\n",
            "Category: talk.religion.misc\n",
            "\n",
            "\n",
            "\n",
            "Seems to be, barring evidence to the contrary, that Koresh was simply\n",
            "another deranged fanatic who thought it neccessary to take a whole bunch of\n",
            "folks with him, children and all, to satisfy his delusional mania. Jim\n",
            "Jones, circa 1993.\n",
            "\n",
            "\n",
            "Nope - fruitcakes like Koresh have been demonstrating such evil corruption\n",
            "for centuries.\n",
            "\n",
            "\n",
            "Category: comp.graphics\n",
            "\n",
            "Hi,\n",
            "\n",
            "I've noticed that if you only save a model (with all your mapping planes\n",
            "positioned carefully) to a .3DS file that when you reload it after restarting\n",
            "3DS, they are given a default position and orientation.  But if you save\n",
            "to a .PRJ file their positions/orientation are preserved.  Does anyone\n",
            "know why this information is not stored in the .3DS file?  Nothing is\n",
            "explicitly said in the manual about saving texture rules in the .PRJ file. \n",
            "I'd like to be able to read the texture rule information, does anyone have \n",
            "the format for the .PRJ file?\n",
            "\n",
            "Is the .CEL file format available from somewhere?\n",
            "\n",
            "Rych\n",
            "\n",
            "\n"
          ]
        }
      ],
      "source": [
        "for category in cats:\n",
        "    category_idx = newsgroups_train.target_names.index(category)\n",
        "    text_idx = (newsgroups_train.target == category_idx).argmax()\n",
        "    text = newsgroups_train.data[text_idx]\n",
        "\n",
        "    print(f\"Category: {category}\\n\")\n",
        "    print(text)\n",
        "    print(\"\\n\")"
      ]
    },
    {
      "cell_type": "markdown",
      "metadata": {
        "id": "BRdSrV8M5GI6"
      },
      "source": [
        "### 2.2 Мешок слов\n",
        "\n",
        "Начнем с самого простого способа извлечения признаков из текстов: обычный подсчет количества употреблений слов в тексте.\n",
        "\n",
        "Для этого используем [sklearn.feature_extraction.text.CountVectorizer](http://scikit-learn.org/stable/modules/generated/sklearn.feature_extraction.text.CountVectorizer.html). Настройте его так, чтобы он использовал англиские стоп слова.\n",
        "\n",
        "Проведите трансформаци текстов из обоих датасетов и выведите размер полученного словаря. (1 векторайзер для тестового и тренировочного датасета! У вас должны получиться матрицы с одинаковыми признаками-словами)"
      ]
    },
    {
      "cell_type": "code",
      "execution_count": 74,
      "metadata": {
        "colab": {
          "base_uri": "https://localhost:8080/"
        },
        "id": "GEMSwlYq5GI7",
        "outputId": "95efc3fe-d979-4f80-ee3d-c14b91f12a17"
      },
      "outputs": [
        {
          "output_type": "execute_result",
          "data": {
            "text/plain": [
              "(2034, 12148)"
            ]
          },
          "metadata": {},
          "execution_count": 74
        }
      ],
      "source": [
        "from sklearn.feature_extraction.text import CountVectorizer\n",
        "\n",
        "vectorizer = CountVectorizer(stop_words='english', max_df=0.95, min_df=2)\n",
        "\n",
        "vectors = vectorizer.fit_transform(newsgroups_train.data)\n",
        "vectors_test = vectorizer.transform(newsgroups_test.data)\n",
        "\n",
        "vectors.shape"
      ]
    },
    {
      "cell_type": "markdown",
      "metadata": {
        "id": "eQ7j0xY85GI7"
      },
      "source": [
        "Будем использовать классифиактор для мультиклассифкации [sklearn.naive_bayes.MultinomialNB]().\n",
        "\n",
        "- Проведите кроссвалидацию на 5 фолдах для метрики `accuracy`.\n",
        "- обучите на тренировочных данных,\n",
        "- нарисуйте красивую confusion матрицу, (с именами классов, а не индексами по осям)\n",
        "- выведите отчет классификации для тестовой выборки (с именами классов, а не индексами)"
      ]
    },
    {
      "cell_type": "code",
      "source": [
        "from sklearn.naive_bayes import MultinomialNB\n",
        "from sklearn import metrics\n",
        "\n",
        "clf = MultinomialNB(alpha=4)\n",
        "\n",
        "clf.fit(vectors, newsgroups_train.target)\n",
        "\n",
        "pred = clf.predict(vectors_test)\n",
        "\n",
        "metrics.accuracy_score(newsgroups_test.target, pred)"
      ],
      "metadata": {
        "colab": {
          "base_uri": "https://localhost:8080/"
        },
        "id": "d6VSkww6G3gt",
        "outputId": "10f45c74-7bf9-41c5-82da-9a3e18592d6f"
      },
      "execution_count": 75,
      "outputs": [
        {
          "output_type": "execute_result",
          "data": {
            "text/plain": [
              "0.7686622320768662"
            ]
          },
          "metadata": {},
          "execution_count": 75
        }
      ]
    },
    {
      "cell_type": "code",
      "source": [
        "conf_matrix = confusion_matrix(newsgroups_test.target, pred)\n",
        "plt.figure(figsize=(8, 6))\n",
        "sns.heatmap(conf_matrix, annot=True, fmt='d', xticklabels=newsgroups_test.target_names, yticklabels=newsgroups_test.target_names, cmap='Blues')\n",
        "plt.xlabel('Предсказанные классы')\n",
        "plt.ylabel('Истинные классы')\n",
        "plt.title('Confusion Matrix')\n",
        "plt.show()\n",
        "\n",
        "# Вывод отчета классификации для тестовой выборки\n",
        "print(\"\\nОтчет классификации:\\n\", classification_report(newsgroups_test.target, pred, target_names=newsgroups_test.target_names))"
      ],
      "metadata": {
        "colab": {
          "base_uri": "https://localhost:8080/",
          "height": 790
        },
        "id": "yl26_uuqIci7",
        "outputId": "735adcaf-1f0a-4eca-80ec-725ac9838042"
      },
      "execution_count": 76,
      "outputs": [
        {
          "output_type": "display_data",
          "data": {
            "text/plain": [
              "<Figure size 800x600 with 2 Axes>"
            ],
            "image/png": "[encoded data removed]"
          },
          "metadata": {}
        },
        {
          "output_type": "stream",
          "name": "stdout",
          "text": [
            "\n",
            "Отчет классификации:\n",
            "                     precision    recall  f1-score   support\n",
            "\n",
            "       alt.atheism       0.62      0.71      0.66       319\n",
            "     comp.graphics       0.90      0.90      0.90       389\n",
            "         sci.space       0.82      0.86      0.84       394\n",
            "talk.religion.misc       0.67      0.49      0.56       251\n",
            "\n",
            "          accuracy                           0.77      1353\n",
            "         macro avg       0.75      0.74      0.74      1353\n",
            "      weighted avg       0.77      0.77      0.76      1353\n",
            "\n"
          ]
        }
      ]
    },
    {
      "cell_type": "code",
      "execution_count": 77,
      "metadata": {
        "colab": {
          "base_uri": "https://localhost:8080/"
        },
        "id": "LsdSz44M5GI7",
        "outputId": "3387dec6-8dc8-403e-e38d-ad5ae31d632a"
      },
      "outputs": [
        {
          "output_type": "stream",
          "name": "stdout",
          "text": [
            "alt.atheism: [like believe say atheism does just think don people god]\n",
            "comp.graphics: [software images files data use file jpeg edu graphics image]\n",
            "sci.space: [just shuttle time orbit data like earth launch nasa space]\n",
            "talk.religion.misc: [know say christian think just bible don jesus people god]\n"
          ]
        }
      ],
      "source": [
        "# Посмотрим на ТОП 10 по важности слова в каждой категории\n",
        "\n",
        "def show_top10(classifier, vectorizer, categories):\n",
        "    feature_names = np.asarray(vectorizer.get_feature_names_out())\n",
        "    for i, category in enumerate(categories):\n",
        "        top10 = np.argsort(classifier.feature_log_prob_[i])[-10:]\n",
        "        print(\"%s: [%s]\" % (category, \" \".join(feature_names[top10])))\n",
        "\n",
        "show_top10(clf, vectorizer, newsgroups_train.target_names)"
      ]
    },
    {
      "cell_type": "markdown",
      "metadata": {
        "id": "BSzCAnwt5GI7"
      },
      "source": [
        "### 2.3 [Tf-IDF](https://ru.wikipedia.org/wiki/TF-IDF)\n",
        "\n",
        "Мешок слов не учитывает \"веса\" слов, он просто смотрит их вхождение в документ. Вероятно, было бы полезно взвесить каким-то обраом каждое слово в документе. Действительно, если слово встречается во всех документах, то, наверное, его вес небольшой. А если редкое слово встречается в некоторых документах, то скорее всего оно какое-то узко тематическое.\n",
        "\n",
        "Один из способов взвесить слова - это использовать меру tf-idf, где:\n",
        "\n",
        "**TF - term frequency** - частота слова для каждой статьи\n",
        "\n",
        "$$\\LARGE \\mathrm{tf}(t,d) = \\frac{n_t}{\\sum_k n_k}$$\n",
        "\n",
        "**IDF - inverse document frequency*** — обратная частота документа - уменьшает вес часто встречаемых слов\n",
        "\n",
        "$$\\LARGE \\mathrm{idf}(t, D) =  \\log \\frac{|D|}{|\\{\\,d_i \\in D \\mid t \\in d_{i}\\, \\}|}$$\n",
        "\n",
        "$D$ - число документов в корпусе\n",
        "\n",
        "$|\\{\\,d_i \\in D \\mid t \\in d_{i}\\, \\}|$ - число документов из коллекции ${\\displaystyle D}$ , в которых встречается ${\\displaystyle t}$  (когда ${\\displaystyle n_{t}\\neq 0}$ ).\n",
        "\n",
        "**TF-IDF**\n",
        "\n",
        "$$\\LARGE \\operatorname{tf-idf}(t,d,D) = \\operatorname{tf}(t,d) \\times \\operatorname{idf}(t, D)$$\n",
        "\n",
        "\n",
        "Для него есть класс [sklearn.feature_extraction.text.TfidfVectorizer](http://scikit-learn.org/stable/modules/generated/sklearn.feature_extraction.text.TfidfVectorizer.html)"
      ]
    },
    {
      "cell_type": "markdown",
      "metadata": {
        "id": "DTvsKxeT5GI8"
      },
      "source": [
        "- Проведите кроссвалидацию на 5 фолдах для метрики `accuracy`.\n",
        "- обучите на тренировочных данных,\n",
        "- нарисуйте красивую confusion матрицу, (с именами классов, а не индексами по осям)\n",
        "- выведите отчет классификации для тестовой выборки (с именами классов, а не индексами)"
      ]
    },
    {
      "cell_type": "code",
      "execution_count": 78,
      "metadata": {
        "colab": {
          "base_uri": "https://localhost:8080/"
        },
        "id": "A7bCWhdb5GI8",
        "outputId": "d48eb34a-f067-4436-f5fa-51cbbc9a6491"
      },
      "outputs": [
        {
          "output_type": "execute_result",
          "data": {
            "text/plain": [
              "(2034, 12148)"
            ]
          },
          "metadata": {},
          "execution_count": 78
        }
      ],
      "source": [
        "from sklearn.feature_extraction.text import TfidfVectorizer\n",
        "\n",
        "vectorizer = TfidfVectorizer(stop_words='english', max_df=0.95, min_df=2)\n",
        "\n",
        "vectors = vectorizer.fit_transform(newsgroups_train.data)\n",
        "vectors_test = vectorizer.transform(newsgroups_test.data)\n",
        "\n",
        "vectors.shape"
      ]
    },
    {
      "cell_type": "code",
      "execution_count": 79,
      "metadata": {
        "colab": {
          "base_uri": "https://localhost:8080/"
        },
        "id": "baJegAnf5GI8",
        "outputId": "9b168c88-a906-4efc-9018-113e695b7cd0"
      },
      "outputs": [
        {
          "output_type": "execute_result",
          "data": {
            "text/plain": [
              "0.7087952697708795"
            ]
          },
          "metadata": {},
          "execution_count": 79
        }
      ],
      "source": [
        "from sklearn.naive_bayes import MultinomialNB\n",
        "from sklearn import metrics\n",
        "\n",
        "clf = MultinomialNB(alpha=4)\n",
        "\n",
        "clf.fit(vectors, newsgroups_train.target)\n",
        "\n",
        "pred = clf.predict(vectors_test)\n",
        "\n",
        "metrics.accuracy_score(newsgroups_test.target, pred)"
      ]
    },
    {
      "cell_type": "code",
      "execution_count": 80,
      "metadata": {
        "colab": {
          "base_uri": "https://localhost:8080/",
          "height": 790
        },
        "id": "ycJIUKoJ5GI8",
        "outputId": "20fd2cf7-ee27-468f-85e8-92ad7c9983d9"
      },
      "outputs": [
        {
          "output_type": "display_data",
          "data": {
            "text/plain": [
              "<Figure size 800x600 with 2 Axes>"
            ],
            "image/png": "[encoded data removed]"
          },
          "metadata": {}
        },
        {
          "output_type": "stream",
          "name": "stdout",
          "text": [
            "\n",
            "Отчет классификации:\n",
            "                     precision    recall  f1-score   support\n",
            "\n",
            "       alt.atheism       0.59      0.68      0.63       319\n",
            "     comp.graphics       0.85      0.92      0.88       389\n",
            "         sci.space       0.68      0.91      0.78       394\n",
            "talk.religion.misc       0.83      0.10      0.17       251\n",
            "\n",
            "          accuracy                           0.71      1353\n",
            "         macro avg       0.73      0.65      0.62      1353\n",
            "      weighted avg       0.73      0.71      0.66      1353\n",
            "\n"
          ]
        }
      ],
      "source": [
        "conf_matrix = confusion_matrix(newsgroups_test.target, pred)\n",
        "plt.figure(figsize=(8, 6))\n",
        "sns.heatmap(conf_matrix, annot=True, fmt='d', xticklabels=newsgroups_test.target_names, yticklabels=newsgroups_test.target_names, cmap='Blues')\n",
        "plt.xlabel('Предсказанные классы')\n",
        "plt.ylabel('Истинные классы')\n",
        "plt.title('Confusion Matrix')\n",
        "plt.show()\n",
        "\n",
        "# Вывод отчета классификации для тестовой выборки\n",
        "print(\"\\nОтчет классификации:\\n\", classification_report(newsgroups_test.target, pred, target_names=newsgroups_test.target_names))"
      ]
    },
    {
      "cell_type": "code",
      "execution_count": 81,
      "metadata": {
        "colab": {
          "base_uri": "https://localhost:8080/"
        },
        "id": "f5cmAFJe5GI8",
        "outputId": "94845b23-cb3d-42cc-97b7-8112ca5b2a97"
      },
      "outputs": [
        {
          "output_type": "stream",
          "name": "stdout",
          "text": [
            "alt.atheism: [islam does religion atheism say just think don people god]\n",
            "comp.graphics: [hi does looking program know file files image thanks graphics]\n",
            "sci.space: [earth shuttle think orbit moon launch just like nasa space]\n",
            "talk.religion.misc: [objective think bible just don christians christian people jesus god]\n"
          ]
        }
      ],
      "source": [
        "show_top10(clf, vectorizer, newsgroups_train.target_names)"
      ]
    },
    {
      "cell_type": "markdown",
      "metadata": {
        "id": "t5AyIteu5GI8"
      },
      "source": [
        "### 2.4 В чём проблема?\n",
        "\n",
        "Как вы заметили, качество немного улучшилось. Как вы думаете почему у нас до сих пор есть ошибки? В чём проблема? Опирайтесь на вывод топа 10 важных слов, confusion matrix и репорт классификации.\n",
        "\n",
        "**Задание**: Напишите развернутое рассуждение."
      ]
    },
    {
      "cell_type": "markdown",
      "metadata": {
        "id": "fQqTur0d5GI8"
      },
      "source": [
        "Несмотря на улучшение качества с использованием TF-IDF, ошибки в классификации могут все еще возникать по нескольким причинам:\n",
        "\n",
        "1. **Смешивание тем**: Некоторые слова могут встречаться в нескольких темах, что может привести к путанице для модели. Например, слова, которые могут быть связаны с несколькими категориями, могут вызывать ошибки.\n",
        "\n",
        "2. **Недостаточное количество обучающих данных**: Если некоторые категории имеют недостаточное количество обучающих примеров или если примеры в них не репрезентативны, модель может делать ошибки в классификации.\n",
        "\n",
        "3. **Неоднозначность текстов**: Некоторые тексты могут быть неоднозначными или содержать множество тем, что также может затруднить классификацию.\n",
        "\n",
        "4. **Недостаточная предобработка данных**: Некорректная предобработка данных, например, недостаточная очистка или токенизация текста, может привести к ошибкам в классификации.\n",
        "\n",
        "5. **Недостаточная настройка параметров модели**: Некорректный выбор параметров модели или недостаточная настройка модели также может привести к ошибкам.\n",
        "\n",
        "Изучение топ-10 важных слов, анализ confusion matrix и отчета классификации может помочь выявить эти проблемы и улучшить качество классификации путем дальнейшей настройки модели, предобработки данных или увеличения объема обучающих данных."
      ]
    },
    {
      "cell_type": "markdown",
      "metadata": {
        "id": "GsrmrW8S5GI8"
      },
      "source": [
        "![](https://i.imgur.com/3D5pgrk.png)"
      ]
    },
    {
      "cell_type": "markdown",
      "metadata": {
        "id": "ZIXLnKaS5GI8"
      },
      "source": [
        "Можно еще немного улучшить качество предсказания, если использовть n-граммы, то есть не только одиночные слова, но и пары, тройки. Для этого у векторайзера есть параметр `ngram_range`, но будьте осторожны, сгенерируется очень много признаков. Их количество можно ограничить  `max_features`. Ещё можно копать в сторону правильного процессинга текстов: лемматизация и стемминг, чтобы убирать окончания, но это обчно не сильно помогает в английском языке.\n",
        "\n",
        "Кроме того можно было бы пойти совсем в другую сторону и использовать word-2-vec технологии, тогда бы у нас слова начал \"обретать\" смысл. Но это вовсем другая история."
      ]
    }
  ],
  "metadata": {
    "kernelspec": {
      "display_name": "Python 3",
      "language": "python",
      "name": "python3"
    },
    "language_info": {
      "codemirror_mode": {
        "name": "ipython",
        "version": 3
      },
      "file_extension": ".py",
      "mimetype": "text/x-python",
      "name": "python",
      "nbconvert_exporter": "python",
      "pygments_lexer": "ipython3",
      "version": "3.8.5"
    },
    "colab": {
      "provenance": []
    }
  },
  "nbformat": 4,
  "nbformat_minor": 0
}